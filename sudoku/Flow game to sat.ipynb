{
 "cells": [
  {
   "cell_type": "code",
   "execution_count": 1,
   "metadata": {},
   "outputs": [],
   "source": [
    "import pycosat\n",
    "import sys, getopt \n",
    "import timeit\n",
    "import itertools\n",
    "import datetime\n",
    "from pprint import pprint\n",
    "import math \n",
    "import matplotlib.pyplot as plt\n",
    "from pprint import pprint"
   ]
  },
  {
   "cell_type": "code",
   "execution_count": 97,
   "metadata": {},
   "outputs": [],
   "source": [
    "grid =     [[0, 1, 0, 2, 0, 0, 0, 0, 0],\n",
    "            [0, 0, 0, 0, 0, 0, 0, 0, 0],\n",
    "            [0, 0, 0, 0, 0, 0, 0, 0, 0],\n",
    "            [0, 0, 0, 0, 0, 0, 0, 0, 0],\n",
    "            [0, 0, 0, 0, 0, 0, 0, 0, 0],\n",
    "            [0, 0, 0, 0, 0, 0, 0, 0, 0],\n",
    "            [0, 0, 0, 0, 0, 0, 0, 0, 0],\n",
    "            [0, 0, 0, 0, 0, 0, 0, 0, 0],\n",
    "            [0, 1, 0, 2, 0, 0, 0, 0, 0]]"
   ]
  },
  {
   "cell_type": "code",
   "execution_count": 69,
   "metadata": {},
   "outputs": [
    {
     "data": {
      "text/plain": [
       "int"
      ]
     },
     "execution_count": 69,
     "metadata": {},
     "output_type": "execute_result"
    }
   ],
   "source": [
    "type(grid[0][0])"
   ]
  },
  {
   "cell_type": "code",
   "execution_count": 13,
   "metadata": {},
   "outputs": [
    {
     "data": {
      "text/plain": [
       "{1: [(0, 1), (3, 1)], 2: [], 3: [], 4: []}"
      ]
     },
     "execution_count": 13,
     "metadata": {},
     "output_type": "execute_result"
    }
   ],
   "source": [
    "color_dict"
   ]
  },
  {
   "cell_type": "code",
   "execution_count": 9,
   "metadata": {},
   "outputs": [
    {
     "data": {
      "text/plain": [
       "1"
      ]
     },
     "execution_count": 9,
     "metadata": {},
     "output_type": "execute_result"
    }
   ],
   "source": [
    "color_dict[1][0][1]"
   ]
  },
  {
   "cell_type": "code",
   "execution_count": 33,
   "metadata": {},
   "outputs": [],
   "source": [
    "class Paths_in_Flow:\n",
    "    \n",
    "    def __init__(self,_color_dict,_grid):\n",
    "        self.path=[]\n",
    "        self.grid=_grid\n",
    "        self.color_dict=_color_dict\n",
    "        self.size_rows=int(len(self.grid))\n",
    "        self.size_columns=int(len(self.grid[0]))\n",
    "        self.max_color=(min(self.size_rows,self.size_columns))\n",
    "\n",
    "                       \n",
    "       \n",
    "\n",
    "    def search(self):\n",
    "        for key in self.color_dict.keys():\n",
    "            if self.color_dict[key]:\n",
    "                #print(_dict[key])\n",
    "                if self.find_path(key,[int(self.color_dict[key][0][0]),int(self.color_dict[key][0][1])],[int(self.color_dict[key][1][0]),int(self.color_dict[key][1][1])]):\n",
    "                    print(\"there is a path \")\n",
    "                print(\"False\")\n",
    "\n",
    "\n",
    "    def find_path(self,key,x,y):\n",
    "#        print(y)\n",
    "        \n",
    "#         print(type(x[0]))\n",
    "#         print(type(y))\n",
    "    \n",
    "        if (x==y or (y[0]==x[0] and (y[1]==x[1]-1 or y[1]==x[1]+1)) or (y[1]==x[1] and (y[0]==x[0]-1 or y[0]==x[0]+1))):\n",
    "           \n",
    "            pprint(self.grid)\n",
    "            pprint(self.path)\n",
    "            return True\n",
    "\n",
    "        elif ((((self.grid[x[0]][x[1]+1])==0 )) and  (x[1]+1 < (self.max_color-1))):\n",
    "            self.grid[x[0]][x[1]+1]=int(key)\n",
    "            self.path.append([x[0],x[1]+1])\n",
    "            print(\"right\",self.path)\n",
    "            pprint(self.grid)\n",
    "            print(x,y)\n",
    "            self.find_path(key,[x[0],x[1]+1],y)\n",
    "            \n",
    "\n",
    "        elif(((self.grid[x[0]+1][x[1]])==0 ))and (x[0]+1 < self.max_color-1):\n",
    "            self.grid[x[0]+1][x[1]]=int(key)\n",
    "            self.path.append([x[0]+1,x[1]])\n",
    "            print(\"down\",self.path)\n",
    "            pprint(self.grid)\n",
    "            print(x,y)\n",
    "            self.find_path(key,[x[0]+1,x[1]],y)\n",
    "\n",
    "        elif (((self.grid[x[0]][x[1]-1])==0 )) and (x[1]-1 >= 0):\n",
    "            self.grid[x[0]][x[1]-1]=int(key)\n",
    "            self.path.append([x[0],x[1]-1])\n",
    "            print(\"left\",self.path)\n",
    "            pprint(self.grid)\n",
    "            print(x,y)\n",
    "            self.find_path(key,[x[0],x[1]-1],y)\n",
    "\n",
    "        elif(((self.grid[x[0]-1][x[1]])==0 ) )and (x[0]-1 >= 0):\n",
    "            self.grid[x[0]-1][x[1]]=int(key)\n",
    "            self.path.append([x[0]-1,x[1]])\n",
    "            print(\"up\",self.path)\n",
    "            pprint(self.grid)\n",
    "            print(x,y)\n",
    "            self.find_path(key,[x[0]-1,x[1]],y)\n",
    "        return False\n",
    "    \n",
    "    "
   ]
  },
  {
   "cell_type": "code",
   "execution_count": 11,
   "metadata": {},
   "outputs": [
    {
     "name": "stdout",
     "output_type": "stream",
     "text": [
      "right [[0, 2]]\n",
      "[[0, 1, 1, 0, 0, 0, 0, 0, 0],\n",
      " [0, 0, 0, 0, 0, 0, 0, 0, 0],\n",
      " [0, 0, 0, 0, 0, 0, 0, 0, 0],\n",
      " [0, 0, 0, 0, 0, 0, 0, 0, 0],\n",
      " [0, 0, 0, 0, 0, 0, 0, 0, 0],\n",
      " [0, 0, 0, 0, 0, 0, 0, 0, 0],\n",
      " [0, 0, 0, 0, 0, 0, 0, 0, 0],\n",
      " [0, 0, 0, 0, 0, 0, 0, 0, 0],\n",
      " [0, 1, 0, 0, 0, 0, 0, 0, 0]]\n",
      "[0, 1] [8, 1]\n",
      "right [[0, 2], [0, 3]]\n",
      "[[0, 1, 1, 1, 0, 0, 0, 0, 0],\n",
      " [0, 0, 0, 0, 0, 0, 0, 0, 0],\n",
      " [0, 0, 0, 0, 0, 0, 0, 0, 0],\n",
      " [0, 0, 0, 0, 0, 0, 0, 0, 0],\n",
      " [0, 0, 0, 0, 0, 0, 0, 0, 0],\n",
      " [0, 0, 0, 0, 0, 0, 0, 0, 0],\n",
      " [0, 0, 0, 0, 0, 0, 0, 0, 0],\n",
      " [0, 0, 0, 0, 0, 0, 0, 0, 0],\n",
      " [0, 1, 0, 0, 0, 0, 0, 0, 0]]\n",
      "[0, 2] [8, 1]\n",
      "right [[0, 2], [0, 3], [0, 4]]\n",
      "[[0, 1, 1, 1, 1, 0, 0, 0, 0],\n",
      " [0, 0, 0, 0, 0, 0, 0, 0, 0],\n",
      " [0, 0, 0, 0, 0, 0, 0, 0, 0],\n",
      " [0, 0, 0, 0, 0, 0, 0, 0, 0],\n",
      " [0, 0, 0, 0, 0, 0, 0, 0, 0],\n",
      " [0, 0, 0, 0, 0, 0, 0, 0, 0],\n",
      " [0, 0, 0, 0, 0, 0, 0, 0, 0],\n",
      " [0, 0, 0, 0, 0, 0, 0, 0, 0],\n",
      " [0, 1, 0, 0, 0, 0, 0, 0, 0]]\n",
      "[0, 3] [8, 1]\n",
      "right [[0, 2], [0, 3], [0, 4], [0, 5]]\n",
      "[[0, 1, 1, 1, 1, 1, 0, 0, 0],\n",
      " [0, 0, 0, 0, 0, 0, 0, 0, 0],\n",
      " [0, 0, 0, 0, 0, 0, 0, 0, 0],\n",
      " [0, 0, 0, 0, 0, 0, 0, 0, 0],\n",
      " [0, 0, 0, 0, 0, 0, 0, 0, 0],\n",
      " [0, 0, 0, 0, 0, 0, 0, 0, 0],\n",
      " [0, 0, 0, 0, 0, 0, 0, 0, 0],\n",
      " [0, 0, 0, 0, 0, 0, 0, 0, 0],\n",
      " [0, 1, 0, 0, 0, 0, 0, 0, 0]]\n",
      "[0, 4] [8, 1]\n",
      "right [[0, 2], [0, 3], [0, 4], [0, 5], [0, 6]]\n",
      "[[0, 1, 1, 1, 1, 1, 1, 0, 0],\n",
      " [0, 0, 0, 0, 0, 0, 0, 0, 0],\n",
      " [0, 0, 0, 0, 0, 0, 0, 0, 0],\n",
      " [0, 0, 0, 0, 0, 0, 0, 0, 0],\n",
      " [0, 0, 0, 0, 0, 0, 0, 0, 0],\n",
      " [0, 0, 0, 0, 0, 0, 0, 0, 0],\n",
      " [0, 0, 0, 0, 0, 0, 0, 0, 0],\n",
      " [0, 0, 0, 0, 0, 0, 0, 0, 0],\n",
      " [0, 1, 0, 0, 0, 0, 0, 0, 0]]\n",
      "[0, 5] [8, 1]\n",
      "right [[0, 2], [0, 3], [0, 4], [0, 5], [0, 6], [0, 7]]\n",
      "[[0, 1, 1, 1, 1, 1, 1, 1, 0],\n",
      " [0, 0, 0, 0, 0, 0, 0, 0, 0],\n",
      " [0, 0, 0, 0, 0, 0, 0, 0, 0],\n",
      " [0, 0, 0, 0, 0, 0, 0, 0, 0],\n",
      " [0, 0, 0, 0, 0, 0, 0, 0, 0],\n",
      " [0, 0, 0, 0, 0, 0, 0, 0, 0],\n",
      " [0, 0, 0, 0, 0, 0, 0, 0, 0],\n",
      " [0, 0, 0, 0, 0, 0, 0, 0, 0],\n",
      " [0, 1, 0, 0, 0, 0, 0, 0, 0]]\n",
      "[0, 6] [8, 1]\n",
      "down [[0, 2], [0, 3], [0, 4], [0, 5], [0, 6], [0, 7], [1, 7]]\n",
      "[[0, 1, 1, 1, 1, 1, 1, 1, 0],\n",
      " [0, 0, 0, 0, 0, 0, 0, 1, 0],\n",
      " [0, 0, 0, 0, 0, 0, 0, 0, 0],\n",
      " [0, 0, 0, 0, 0, 0, 0, 0, 0],\n",
      " [0, 0, 0, 0, 0, 0, 0, 0, 0],\n",
      " [0, 0, 0, 0, 0, 0, 0, 0, 0],\n",
      " [0, 0, 0, 0, 0, 0, 0, 0, 0],\n",
      " [0, 0, 0, 0, 0, 0, 0, 0, 0],\n",
      " [0, 1, 0, 0, 0, 0, 0, 0, 0]]\n",
      "[0, 7] [8, 1]\n",
      "down [[0, 2], [0, 3], [0, 4], [0, 5], [0, 6], [0, 7], [1, 7], [2, 7]]\n",
      "[[0, 1, 1, 1, 1, 1, 1, 1, 0],\n",
      " [0, 0, 0, 0, 0, 0, 0, 1, 0],\n",
      " [0, 0, 0, 0, 0, 0, 0, 1, 0],\n",
      " [0, 0, 0, 0, 0, 0, 0, 0, 0],\n",
      " [0, 0, 0, 0, 0, 0, 0, 0, 0],\n",
      " [0, 0, 0, 0, 0, 0, 0, 0, 0],\n",
      " [0, 0, 0, 0, 0, 0, 0, 0, 0],\n",
      " [0, 0, 0, 0, 0, 0, 0, 0, 0],\n",
      " [0, 1, 0, 0, 0, 0, 0, 0, 0]]\n",
      "[1, 7] [8, 1]\n",
      "down [[0, 2], [0, 3], [0, 4], [0, 5], [0, 6], [0, 7], [1, 7], [2, 7], [3, 7]]\n",
      "[[0, 1, 1, 1, 1, 1, 1, 1, 0],\n",
      " [0, 0, 0, 0, 0, 0, 0, 1, 0],\n",
      " [0, 0, 0, 0, 0, 0, 0, 1, 0],\n",
      " [0, 0, 0, 0, 0, 0, 0, 1, 0],\n",
      " [0, 0, 0, 0, 0, 0, 0, 0, 0],\n",
      " [0, 0, 0, 0, 0, 0, 0, 0, 0],\n",
      " [0, 0, 0, 0, 0, 0, 0, 0, 0],\n",
      " [0, 0, 0, 0, 0, 0, 0, 0, 0],\n",
      " [0, 1, 0, 0, 0, 0, 0, 0, 0]]\n",
      "[2, 7] [8, 1]\n",
      "down [[0, 2], [0, 3], [0, 4], [0, 5], [0, 6], [0, 7], [1, 7], [2, 7], [3, 7], [4, 7]]\n",
      "[[0, 1, 1, 1, 1, 1, 1, 1, 0],\n",
      " [0, 0, 0, 0, 0, 0, 0, 1, 0],\n",
      " [0, 0, 0, 0, 0, 0, 0, 1, 0],\n",
      " [0, 0, 0, 0, 0, 0, 0, 1, 0],\n",
      " [0, 0, 0, 0, 0, 0, 0, 1, 0],\n",
      " [0, 0, 0, 0, 0, 0, 0, 0, 0],\n",
      " [0, 0, 0, 0, 0, 0, 0, 0, 0],\n",
      " [0, 0, 0, 0, 0, 0, 0, 0, 0],\n",
      " [0, 1, 0, 0, 0, 0, 0, 0, 0]]\n",
      "[3, 7] [8, 1]\n",
      "down [[0, 2], [0, 3], [0, 4], [0, 5], [0, 6], [0, 7], [1, 7], [2, 7], [3, 7], [4, 7], [5, 7]]\n",
      "[[0, 1, 1, 1, 1, 1, 1, 1, 0],\n",
      " [0, 0, 0, 0, 0, 0, 0, 1, 0],\n",
      " [0, 0, 0, 0, 0, 0, 0, 1, 0],\n",
      " [0, 0, 0, 0, 0, 0, 0, 1, 0],\n",
      " [0, 0, 0, 0, 0, 0, 0, 1, 0],\n",
      " [0, 0, 0, 0, 0, 0, 0, 1, 0],\n",
      " [0, 0, 0, 0, 0, 0, 0, 0, 0],\n",
      " [0, 0, 0, 0, 0, 0, 0, 0, 0],\n",
      " [0, 1, 0, 0, 0, 0, 0, 0, 0]]\n",
      "[4, 7] [8, 1]\n",
      "down [[0, 2], [0, 3], [0, 4], [0, 5], [0, 6], [0, 7], [1, 7], [2, 7], [3, 7], [4, 7], [5, 7], [6, 7]]\n",
      "[[0, 1, 1, 1, 1, 1, 1, 1, 0],\n",
      " [0, 0, 0, 0, 0, 0, 0, 1, 0],\n",
      " [0, 0, 0, 0, 0, 0, 0, 1, 0],\n",
      " [0, 0, 0, 0, 0, 0, 0, 1, 0],\n",
      " [0, 0, 0, 0, 0, 0, 0, 1, 0],\n",
      " [0, 0, 0, 0, 0, 0, 0, 1, 0],\n",
      " [0, 0, 0, 0, 0, 0, 0, 1, 0],\n",
      " [0, 0, 0, 0, 0, 0, 0, 0, 0],\n",
      " [0, 1, 0, 0, 0, 0, 0, 0, 0]]\n",
      "[5, 7] [8, 1]\n",
      "down [[0, 2], [0, 3], [0, 4], [0, 5], [0, 6], [0, 7], [1, 7], [2, 7], [3, 7], [4, 7], [5, 7], [6, 7], [7, 7]]\n",
      "[[0, 1, 1, 1, 1, 1, 1, 1, 0],\n",
      " [0, 0, 0, 0, 0, 0, 0, 1, 0],\n",
      " [0, 0, 0, 0, 0, 0, 0, 1, 0],\n",
      " [0, 0, 0, 0, 0, 0, 0, 1, 0],\n",
      " [0, 0, 0, 0, 0, 0, 0, 1, 0],\n",
      " [0, 0, 0, 0, 0, 0, 0, 1, 0],\n",
      " [0, 0, 0, 0, 0, 0, 0, 1, 0],\n",
      " [0, 0, 0, 0, 0, 0, 0, 1, 0],\n",
      " [0, 1, 0, 0, 0, 0, 0, 0, 0]]\n",
      "[6, 7] [8, 1]\n",
      "left [[0, 2], [0, 3], [0, 4], [0, 5], [0, 6], [0, 7], [1, 7], [2, 7], [3, 7], [4, 7], [5, 7], [6, 7], [7, 7], [7, 6]]\n",
      "[[0, 1, 1, 1, 1, 1, 1, 1, 0],\n",
      " [0, 0, 0, 0, 0, 0, 0, 1, 0],\n",
      " [0, 0, 0, 0, 0, 0, 0, 1, 0],\n",
      " [0, 0, 0, 0, 0, 0, 0, 1, 0],\n",
      " [0, 0, 0, 0, 0, 0, 0, 1, 0],\n",
      " [0, 0, 0, 0, 0, 0, 0, 1, 0],\n",
      " [0, 0, 0, 0, 0, 0, 0, 1, 0],\n",
      " [0, 0, 0, 0, 0, 0, 1, 1, 0],\n",
      " [0, 1, 0, 0, 0, 0, 0, 0, 0]]\n",
      "[7, 7] [8, 1]\n",
      "left [[0, 2], [0, 3], [0, 4], [0, 5], [0, 6], [0, 7], [1, 7], [2, 7], [3, 7], [4, 7], [5, 7], [6, 7], [7, 7], [7, 6], [7, 5]]\n",
      "[[0, 1, 1, 1, 1, 1, 1, 1, 0],\n",
      " [0, 0, 0, 0, 0, 0, 0, 1, 0],\n",
      " [0, 0, 0, 0, 0, 0, 0, 1, 0],\n",
      " [0, 0, 0, 0, 0, 0, 0, 1, 0],\n",
      " [0, 0, 0, 0, 0, 0, 0, 1, 0],\n",
      " [0, 0, 0, 0, 0, 0, 0, 1, 0],\n",
      " [0, 0, 0, 0, 0, 0, 0, 1, 0],\n",
      " [0, 0, 0, 0, 0, 1, 1, 1, 0],\n",
      " [0, 1, 0, 0, 0, 0, 0, 0, 0]]\n",
      "[7, 6] [8, 1]\n",
      "left [[0, 2], [0, 3], [0, 4], [0, 5], [0, 6], [0, 7], [1, 7], [2, 7], [3, 7], [4, 7], [5, 7], [6, 7], [7, 7], [7, 6], [7, 5], [7, 4]]\n",
      "[[0, 1, 1, 1, 1, 1, 1, 1, 0],\n",
      " [0, 0, 0, 0, 0, 0, 0, 1, 0],\n",
      " [0, 0, 0, 0, 0, 0, 0, 1, 0],\n",
      " [0, 0, 0, 0, 0, 0, 0, 1, 0],\n",
      " [0, 0, 0, 0, 0, 0, 0, 1, 0],\n",
      " [0, 0, 0, 0, 0, 0, 0, 1, 0],\n",
      " [0, 0, 0, 0, 0, 0, 0, 1, 0],\n",
      " [0, 0, 0, 0, 1, 1, 1, 1, 0],\n",
      " [0, 1, 0, 0, 0, 0, 0, 0, 0]]\n",
      "[7, 5] [8, 1]\n",
      "left [[0, 2], [0, 3], [0, 4], [0, 5], [0, 6], [0, 7], [1, 7], [2, 7], [3, 7], [4, 7], [5, 7], [6, 7], [7, 7], [7, 6], [7, 5], [7, 4], [7, 3]]\n",
      "[[0, 1, 1, 1, 1, 1, 1, 1, 0],\n",
      " [0, 0, 0, 0, 0, 0, 0, 1, 0],\n",
      " [0, 0, 0, 0, 0, 0, 0, 1, 0],\n",
      " [0, 0, 0, 0, 0, 0, 0, 1, 0],\n",
      " [0, 0, 0, 0, 0, 0, 0, 1, 0],\n",
      " [0, 0, 0, 0, 0, 0, 0, 1, 0],\n",
      " [0, 0, 0, 0, 0, 0, 0, 1, 0],\n",
      " [0, 0, 0, 1, 1, 1, 1, 1, 0],\n",
      " [0, 1, 0, 0, 0, 0, 0, 0, 0]]\n",
      "[7, 4] [8, 1]\n",
      "left [[0, 2], [0, 3], [0, 4], [0, 5], [0, 6], [0, 7], [1, 7], [2, 7], [3, 7], [4, 7], [5, 7], [6, 7], [7, 7], [7, 6], [7, 5], [7, 4], [7, 3], [7, 2]]\n",
      "[[0, 1, 1, 1, 1, 1, 1, 1, 0],\n",
      " [0, 0, 0, 0, 0, 0, 0, 1, 0],\n",
      " [0, 0, 0, 0, 0, 0, 0, 1, 0],\n",
      " [0, 0, 0, 0, 0, 0, 0, 1, 0],\n",
      " [0, 0, 0, 0, 0, 0, 0, 1, 0],\n",
      " [0, 0, 0, 0, 0, 0, 0, 1, 0],\n",
      " [0, 0, 0, 0, 0, 0, 0, 1, 0],\n",
      " [0, 0, 1, 1, 1, 1, 1, 1, 0],\n",
      " [0, 1, 0, 0, 0, 0, 0, 0, 0]]\n",
      "[7, 3] [8, 1]\n",
      "left [[0, 2], [0, 3], [0, 4], [0, 5], [0, 6], [0, 7], [1, 7], [2, 7], [3, 7], [4, 7], [5, 7], [6, 7], [7, 7], [7, 6], [7, 5], [7, 4], [7, 3], [7, 2], [7, 1]]\n",
      "[[0, 1, 1, 1, 1, 1, 1, 1, 0],\n",
      " [0, 0, 0, 0, 0, 0, 0, 1, 0],\n",
      " [0, 0, 0, 0, 0, 0, 0, 1, 0],\n",
      " [0, 0, 0, 0, 0, 0, 0, 1, 0],\n",
      " [0, 0, 0, 0, 0, 0, 0, 1, 0],\n",
      " [0, 0, 0, 0, 0, 0, 0, 1, 0],\n",
      " [0, 0, 0, 0, 0, 0, 0, 1, 0],\n",
      " [0, 1, 1, 1, 1, 1, 1, 1, 0],\n",
      " [0, 1, 0, 0, 0, 0, 0, 0, 0]]\n",
      "[7, 2] [8, 1]\n",
      "[[0, 1, 1, 1, 1, 1, 1, 1, 0],\n",
      " [0, 0, 0, 0, 0, 0, 0, 1, 0],\n",
      " [0, 0, 0, 0, 0, 0, 0, 1, 0],\n",
      " [0, 0, 0, 0, 0, 0, 0, 1, 0],\n",
      " [0, 0, 0, 0, 0, 0, 0, 1, 0],\n",
      " [0, 0, 0, 0, 0, 0, 0, 1, 0],\n",
      " [0, 0, 0, 0, 0, 0, 0, 1, 0],\n",
      " [0, 1, 1, 1, 1, 1, 1, 1, 0],\n",
      " [0, 1, 0, 0, 0, 0, 0, 0, 0]]\n",
      "[[0, 2],\n",
      " [0, 3],\n",
      " [0, 4],\n",
      " [0, 5],\n",
      " [0, 6],\n",
      " [0, 7],\n",
      " [1, 7],\n",
      " [2, 7],\n",
      " [3, 7],\n",
      " [4, 7],\n",
      " [5, 7],\n",
      " [6, 7],\n",
      " [7, 7],\n",
      " [7, 6],\n",
      " [7, 5],\n",
      " [7, 4],\n",
      " [7, 3],\n",
      " [7, 2],\n",
      " [7, 1]]\n",
      "False\n"
     ]
    }
   ],
   "source": [
    "a = Paths_in_Flow(color_dict,grid)\n",
    "a.color_dict\n",
    "a.search()\n",
    "#in recursive way to search if there is a path which all \"0\", add the color and represent it as sat\n",
    "\n"
   ]
  },
  {
   "cell_type": "markdown",
   "metadata": {},
   "source": [
    "# to use sat to fill the board and the verification will check if it's flow or not. if no, try another solution"
   ]
  },
  {
   "cell_type": "code",
   "execution_count": 2,
   "metadata": {},
   "outputs": [],
   "source": [
    "color_dict={}"
   ]
  },
  {
   "cell_type": "code",
   "execution_count": 3,
   "metadata": {},
   "outputs": [],
   "source": [
    "size_rows=0\n",
    "size_columns=0"
   ]
  },
  {
   "cell_type": "code",
   "execution_count": 4,
   "metadata": {},
   "outputs": [],
   "source": [
    "_grid =      [[0, 1, 0, 2, 0, 0, 0, 0, 0],\n",
    "            [0, 0, 0, 0, 0, 0, 0, 0, 0],\n",
    "            [0, 0, 0, 0, 0, 0, 0, 0, 0],\n",
    "            [0, 0, 0, 0, 0, 0, 0, 0, 0],\n",
    "            [0, 0, 0, 0, 0, 0, 0, 0, 0],\n",
    "            [0, 0, 0, 0, 0, 0, 0, 0, 0],\n",
    "            [0, 0, 0, 0, 0, 0, 0, 0, 0],\n",
    "            [0, 0, 0, 0, 0, 0, 0, 0, 0],\n",
    "            [0, 1, 0, 2, 0, 0, 0, 0, 0]]\n",
    "\n",
    "grid= [[0,1,0,0],\n",
    "      [0,0,0,0],\n",
    "      [0,0,0,0],\n",
    "      [0,1,0,0]]"
   ]
  },
  {
   "cell_type": "code",
   "execution_count": 5,
   "metadata": {},
   "outputs": [],
   "source": [
    "size_rows=int(len(grid))\n",
    "size_columns=int(len(grid[0]))\n",
    "max_color=(max(size_rows,size_columns))"
   ]
  },
  {
   "cell_type": "code",
   "execution_count": 6,
   "metadata": {},
   "outputs": [],
   "source": [
    "   \n",
    "for i in range(1,max_color+1): \n",
    "    color_dict[i]=[]\n",
    "    for k in range(0,size_rows):\n",
    "        for j in range(0,size_columns):\n",
    "            if grid[k][j]==i:\n",
    "                color_dict[i].append([k,j])\n",
    "                \n",
    "                \n",
    "                "
   ]
  },
  {
   "cell_type": "code",
   "execution_count": 7,
   "metadata": {},
   "outputs": [
    {
     "data": {
      "text/plain": [
       "{1: [[0, 1], [3, 1]], 2: [], 3: [], 4: []}"
      ]
     },
     "execution_count": 7,
     "metadata": {},
     "output_type": "execute_result"
    }
   ],
   "source": [
    "color_dict"
   ]
  },
  {
   "cell_type": "code",
   "execution_count": 8,
   "metadata": {},
   "outputs": [
    {
     "name": "stdout",
     "output_type": "stream",
     "text": [
      "<class 'int'> 1\n"
     ]
    }
   ],
   "source": [
    "for key in color_dict.keys():\n",
    "            if len(color_dict[key])==2:\n",
    "              print(type(key),color_dict[key][1][1])"
   ]
  },
  {
   "cell_type": "code",
   "execution_count": 9,
   "metadata": {},
   "outputs": [],
   "source": [
    "def solve_problem(problemset,max_color):\n",
    "    size_rows=int(len(problemset))\n",
    "    size_columns=int(len(problemset[0]))\n",
    "    max_value=max_color\n",
    "    print(size_rows, size_columns,max_value)\n",
    "    \n",
    "    print('Problem:') \n",
    "    pprint(problemset)\n",
    "    tamar=Solver(problemset)\n",
    "    new_grid=tamar.solve( size_rows,size_columns,max_value) \n",
    "    print('Answer:')\n",
    "    pprint(problemset)  \n",
    "    return new_grid"
   ]
  },
  {
   "cell_type": "code",
   "execution_count": 10,
   "metadata": {},
   "outputs": [],
   "source": [
    "def v(i, j, d,rows,columns,max_value): \n",
    "    return rows*columns * (i - 1) + max_value * (j - 1) + d"
   ]
  },
  {
   "cell_type": "code",
   "execution_count": 11,
   "metadata": {},
   "outputs": [],
   "source": [
    "#Reduces Sudoku problem to a SAT clauses  --> in general all the options\n",
    "def sudoku_clauses(rows,columns,max_value,clauses): \n",
    "    res = []\n",
    "    # for all cells, ensure that the each cell:\n",
    "    for i in range(1, rows+1):\n",
    "        for j in range(1, columns+1):\n",
    "            # denotes (at least) one of the 9 digits (1 clause)\n",
    "            for d in range(1,max_value +1):\n",
    "                if [v(i, j, d,rows,columns,max_value)]  in clauses:\n",
    "                    print(\"tamar\")\n",
    "                    continue\n",
    "                ########################################adding local check \n",
    "                res.append([v(i, j, d,rows,columns,max_value)])\n",
    "                print(i, j, d)\n",
    "\n",
    "\n",
    "    return res"
   ]
  },
  {
   "cell_type": "code",
   "execution_count": 12,
   "metadata": {},
   "outputs": [],
   "source": [
    " def read_cell(i, j,sol):\n",
    "    # return the digit of cell i, j according to the solution  ##here i can add the calling couple of times\n",
    "        for d in range(1, max_value+1):\n",
    "            if v(i, j, d,rows,columns,max_value) in sol:\n",
    "                return d"
   ]
  },
  {
   "cell_type": "code",
   "execution_count": 13,
   "metadata": {},
   "outputs": [],
   "source": [
    "class Solver():\n",
    "    \n",
    "    \n",
    "    def __init__(self,grid):\n",
    "        print(\"new Solver\")\n",
    "        self.grid_local=grid\n",
    "        \n",
    "    def solve(self,rows,columns,max_value):\n",
    "        clauses_2=[]\n",
    "        #clauses = sudoku_clauses()\n",
    "        for i in range(1,rows +1):\n",
    "            for j in range(1, columns+1):\n",
    "\n",
    "                d = (self.grid_local[i-1][j-1])\n",
    "                # For each digit already known, a clause (with one literal). \n",
    "                if d:\n",
    "                    clauses_2.append([v(i, j, d,rows,columns,max_value)])\n",
    "        clauses = sudoku_clauses(rows,columns,max_value,clauses_2)\n",
    "        #clauses.append(clauses_2)\n",
    "        print(\"latest clauses are:\",clauses)\n",
    "        #clauses.append(clauses_1)\n",
    "\n",
    "\n",
    "        # Print number SAT clause  \n",
    "        numclause = len(clauses)\n",
    "        print (\"P CNF \" + str(numclause) +\"(number of clauses)\")\n",
    "\n",
    "\n",
    "        def read_cell(i, j,sol):\n",
    "        # return the digit of cell i, j according to the solution  ##here i can add the calling couple of times\n",
    "            for d in range(1, max_value+1):\n",
    "                if v(i, j, d,rows,columns,max_value) in sol:\n",
    "                    return d\n",
    "\n",
    "        sol=pycosat.solve(clauses)\n",
    "        sol.append(clauses_2)\n",
    "        #print(\"sol: \" ,sol)\n",
    "        for i in range(1, rows+1):\n",
    "                    for j in range(1, columns+1):\n",
    "                        self.grid_local[i - 1][j - 1] = read_cell(i, j,sol)\n",
    "                        \n",
    "        \n",
    "#         for key in color_dict.keys():\n",
    "#             if len(color_dict[key])==2:\n",
    "#                 self.grid_local[color_dict[key][0][0]][[color_dict[key][0][1]]]=int(key)\n",
    "#                 self.grid_local[color_dict[key][1][0]][[color_dict[key][1][1]]]=int(key)\n",
    "                \n",
    "                \n",
    "        return(self.grid_local)\n",
    "\n",
    "\n",
    "        "
   ]
  },
  {
   "cell_type": "code",
   "execution_count": 14,
   "metadata": {},
   "outputs": [
    {
     "name": "stdout",
     "output_type": "stream",
     "text": [
      "4 4 1\n",
      "Problem:\n",
      "[[0, 1, 0, 0], [0, 0, 0, 0], [0, 0, 0, 0], [0, 1, 0, 0]]\n",
      "new Solver\n",
      "1 1 1\n",
      "tamar\n",
      "1 3 1\n",
      "1 4 1\n",
      "2 1 1\n",
      "2 2 1\n",
      "2 3 1\n",
      "2 4 1\n",
      "3 1 1\n",
      "3 2 1\n",
      "3 3 1\n",
      "3 4 1\n",
      "4 1 1\n",
      "tamar\n",
      "4 3 1\n",
      "4 4 1\n",
      "latest clauses are: [[1], [3], [4], [17], [18], [19], [20], [33], [34], [35], [36], [49], [51], [52]]\n",
      "P CNF 14(number of clauses)\n",
      "Answer:\n",
      "[[1, None, 1, 1], [1, 1, 1, 1], [1, 1, 1, 1], [1, None, 1, 1]]\n"
     ]
    }
   ],
   "source": [
    "#create solver that solve it all\n",
    "new_grid=solve_problem(grid, 1)"
   ]
  },
  {
   "cell_type": "code",
   "execution_count": 15,
   "metadata": {},
   "outputs": [
    {
     "data": {
      "text/plain": [
       "[[1, None, 1, 1], [1, 1, 1, 1], [1, 1, 1, 1], [1, None, 1, 1]]"
      ]
     },
     "execution_count": 15,
     "metadata": {},
     "output_type": "execute_result"
    }
   ],
   "source": [
    "grid"
   ]
  },
  {
   "cell_type": "code",
   "execution_count": 16,
   "metadata": {},
   "outputs": [
    {
     "data": {
      "text/plain": [
       "[[1, None, 1, 1], [1, 1, 1, 1], [1, 1, 1, 1], [1, None, 1, 1]]"
      ]
     },
     "execution_count": 16,
     "metadata": {},
     "output_type": "execute_result"
    }
   ],
   "source": [
    "new_grid"
   ]
  },
  {
   "cell_type": "code",
   "execution_count": null,
   "metadata": {},
   "outputs": [],
   "source": [
    "# 1.Every cell is assigned a single color.\n",
    "# 2.The color of every endpoint cell is known and specified.\n",
    "# 3.Every endpoint cell has exactly one neighbor which matches its color.\n",
    "# 4.The flow through every non-endpoint cell matches exactly one of the six direction types.\n",
    "# 5.The neighbors of a cell specified by its direction type must match its color.\n",
    "# 6.The neighbors of a cell not specified by its direction type must not match its color."
   ]
  },
  {
   "cell_type": "markdown",
   "metadata": {},
   "source": [
    "# creating more clauses"
   ]
  },
  {
   "cell_type": "code",
   "execution_count": null,
   "metadata": {},
   "outputs": [],
   "source": [
    "def pyflow_solver_main:\n",
    "    print('Solve Flow Free puzzles via reduction to SAT')\n",
    "    "
   ]
  },
  {
   "cell_type": "code",
   "execution_count": null,
   "metadata": {},
   "outputs": [],
   "source": [
    "if __name__ == '__main__':\n",
    "\n",
    "    pyflow_solver_main()"
   ]
  }
 ],
 "metadata": {
  "kernelspec": {
   "display_name": "Python 3",
   "language": "python",
   "name": "python3"
  },
  "language_info": {
   "codemirror_mode": {
    "name": "ipython",
    "version": 3
   },
   "file_extension": ".py",
   "mimetype": "text/x-python",
   "name": "python",
   "nbconvert_exporter": "python",
   "pygments_lexer": "ipython3",
   "version": "3.7.1"
  }
 },
 "nbformat": 4,
 "nbformat_minor": 2
}
