{
 "cells": [
  {
   "cell_type": "code",
   "execution_count": 1,
   "metadata": {},
   "outputs": [],
   "source": [
    "# i based on this reduction : https://www.cs.bgu.ac.il/~algo132/wiki.files/3sat-susu.pdf\n",
    "\n",
    "import pandas as pd\n",
    "from pandas import *\n",
    "import tabulate\n",
    "from tabulate import tabulate\n",
    "import prettytable\n",
    "from prettytable import PrettyTable\n",
    "import math\n",
    "import numpy as np\n",
    "# import StyleFrame\n",
    "# from StyleFrame import StyleFrame, Styler, utils"
   ]
  },
  {
   "cell_type": "code",
   "execution_count": null,
   "metadata": {},
   "outputs": [],
   "source": [
    "print(\"please enter numbers:\")\n",
    "numbers= input()\n",
    "\n",
    "#decimal base:\n",
    "# for example,target=1114444: 1001001,1000110,100001,101110,10011,11100,1000,2000,100,200,10,20,1,2\n",
    "\n",
    "#binary base:\n",
    "\n",
    "\n",
    "# for example2,target=14:2,5,9 -> 1110: 10,101,1001,1,11,100,110,111,1000,1010,1011,1100,1101\n",
    "# for example2,target=15:2,5,9 -> 1111: 10,101,1001\n"
   ]
  },
  {
   "cell_type": "code",
   "execution_count": 6,
   "metadata": {},
   "outputs": [],
   "source": [
    "numbers= numbers.split(\",\")\n",
    "max_length=max([(len(x)) for x in numbers])            #searching for the longest value to pad accordding to it\n",
    "\n",
    "clause_list=['x1','x2','x3']                           #create the minimal headers for 3sat problem\n",
    "\n",
    "\n",
    "for u in range(3,max_length):\n",
    "    clause_list.append('c{}'.format(u-2))              #declarating on clause headers accordding to the input\n",
    "\n",
    "t1=DataFrame([ clause_list] )\n",
    "# print(t1)\n",
    "t = PrettyTable(clause_list)                           #creating chart\n",
    "\n",
    "for i in range(0,len(numbers)):\n",
    "    numbers[i]=numbers[i].rjust(max_length, '0')       #padding for the chart\n",
    "    digits = [x for x in str(numbers[i])]              #cutting the digits to fill the chart\n",
    "    t1.loc[i+1]=digits\n",
    "    t.add_row(digits)\n",
    "\n",
    "\n"
   ]
  },
  {
   "cell_type": "code",
   "execution_count": 7,
   "metadata": {},
   "outputs": [
    {
     "name": "stdout",
     "output_type": "stream",
     "text": [
      "+----+----+----+----+\n",
      "| x1 | x2 | x3 | c1 |\n",
      "+----+----+----+----+\n",
      "| 0  | 0  | 1  | 0  |\n",
      "| 0  | 1  | 0  | 1  |\n",
      "| 1  | 0  | 0  | 1  |\n",
      "| 0  | 0  | 0  | 1  |\n",
      "| 0  | 0  | 1  | 1  |\n",
      "| 0  | 1  | 0  | 0  |\n",
      "| 0  | 1  | 1  | 0  |\n",
      "| 0  | 1  | 1  | 1  |\n",
      "| 1  | 0  | 0  | 0  |\n",
      "| 1  | 0  | 1  | 0  |\n",
      "| 1  | 0  | 1  | 1  |\n",
      "| 1  | 1  | 0  | 0  |\n",
      "| 1  | 1  | 0  | 1  |\n",
      "+----+----+----+----+\n"
     ]
    }
   ],
   "source": [
    "print(t)"
   ]
  },
  {
   "cell_type": "code",
   "execution_count": 8,
   "metadata": {},
   "outputs": [],
   "source": [
    "def sxor(s1,s2):    \n",
    "    # convert strings to a list of character pair tuples\n",
    "    # go through each tuple, converting them to ASCII code (ord)\n",
    "    # perform exclusive or on the ASCII code\n",
    "    # then convert the result back to ASCII (chr)\n",
    "    # merge the resulting array of characters as a string\n",
    "    return ''.join(chr(ord(a) ^ ord(b)) for a,b in zip(s1,s2))"
   ]
  },
  {
   "cell_type": "code",
   "execution_count": 9,
   "metadata": {},
   "outputs": [],
   "source": [
    "\n",
    "# an indication the the assiment won't work,so we won't continue to calculation:\n",
    "\n",
    "for j in numbers:\n",
    "    for k in numbers:\n",
    "        if(((j[0:3] is k[0:3])==True) and( (j is k)==False) ):\n",
    "            if((sxor(numbers[j][3:],numbers[k][3:])==1)):\n",
    "                   print(\"there isn't satisfing placement because both x and ~x in the same clause\")\n",
    "        else:\n",
    "            continue\n"
   ]
  },
  {
   "cell_type": "code",
   "execution_count": 10,
   "metadata": {},
   "outputs": [],
   "source": [
    "dict_for_clause={}\n",
    "\n",
    "for h in range(3,max_length-1):\n",
    "       dict_for_clause[ 'c{}'.format(h-2) ]=[]\n",
    "\n",
    "\n",
    "list_tamar=[]\n",
    "\n",
    "for row in t1:\n",
    "    for h in range(3,max_length-1):\n",
    "        #---------------------------------------------------------------------------------------------------\n",
    "        if(t1.iloc[row][h]=='1' and t1.loc[row][0] =='1'):\n",
    "            if(t1.loc[row][1] =='1' and t1.loc[row][2] =='1'):\n",
    "                dict_for_clause['c{}'.format(h-2)].append([t1.loc[0][0] , t1.loc[0][1] ,t1.loc[0][2]])\n",
    "                \n",
    "                \n",
    "            elif(t1.loc[row][1] =='0' and t1.loc[row][2] =='1'):\n",
    "                dict_for_clause['c{}'.format(h-2)].aapend([t1.loc[0][0]  ,t1.loc[0][2]])\n",
    "                \n",
    "            elif(t1.loc[row][1] =='1' and t1.loc[row][2] =='0'):\n",
    "                dict_for_clause['c{}'.format(h-2)].append([t1.loc[0][0]  ,t1.loc[0][1]])\n",
    "            \n",
    "            else:\n",
    "                dict_for_clause['c{}'.format(h-2)].append([t1.loc[0][0]])\n",
    "                #--------------------------------------------------------------------------------------------\n",
    "            \n",
    "        elif(t1.iloc[row][h]=='1' and t1.loc[row][1] =='1'):\n",
    "            \n",
    "            if(t1.loc[row][0] =='1' and t1.loc[row][2] =='1'):\n",
    "                dict_for_clause['c{}'.format(h-2)].append([t1.loc[0][0] ,t1.loc[0][1] ,t1.loc[0][2]])\n",
    "                \n",
    "            elif(t1.loc[row][0] =='0' and t1.loc[row][2] =='1'):\n",
    "                dict_for_clause['c{}'.format(h-2)].append(t1.loc[0][1],t1.loc[0][2])\n",
    "                \n",
    "            elif(t1.loc[row][0] =='1' and t1.loc[row][2] =='0'):\n",
    "                dict_for_clause['c{}'.format(h-2)].append(t1.loc[0][0]  ,t1.loc[0][1])\n",
    "            \n",
    "            else:\n",
    "                dict_for_clause['c{}'.format(h-2)].append(t1.loc[0][1])\n",
    "#             #-------------------------------------------------------------------------------------------\n",
    "            \n",
    "        elif(t1.iloc[row][h]=='1' and t1.loc[row][2] =='1'):\n",
    "            \n",
    "            if(t1.loc[row][0] =='1' and t1.loc[row][1] =='1'):\n",
    "                dict_for_clause['c{}'.format(h-2)].append([t1.loc[0][0] , t1.loc[0][1] ,t1.loc[0][2]])\n",
    "                \n",
    "            elif(t1.loc[row][0] =='0' and t1.loc[row][1] =='1'):\n",
    "                dict_for_clause['c{}'.format(h-2)].append([t1.loc[0][1]  ,t1.loc[0][2]])\n",
    "                \n",
    "            elif(t1.loc[row][0] =='1' and t1.loc[row][1] =='0'):\n",
    "                dict_for_clause['c{}'.format(h-2)].append([t1.loc[0][0]  ,t1.loc[0][2]])\n",
    "            \n",
    "            else:\n",
    "                dict_for_clause['c{}'.format(h-2)].append([t1.loc[0][2]])\n",
    "            #------------------------------------------------------------------------------------------\n",
    "        else:\n",
    "            continue\n",
    "            \n",
    "\n",
    "\n",
    "#             c'{}'.format(h).append(x for x in str(line[0:2]) )\n"
   ]
  },
  {
   "cell_type": "code",
   "execution_count": 11,
   "metadata": {},
   "outputs": [
    {
     "name": "stdout",
     "output_type": "stream",
     "text": [
      "{}\n"
     ]
    }
   ],
   "source": [
    "print(dict_for_clause)"
   ]
  },
  {
   "cell_type": "code",
   "execution_count": 26,
   "metadata": {},
   "outputs": [
    {
     "name": "stdout",
     "output_type": "stream",
     "text": [
      "7\n"
     ]
    }
   ],
   "source": [
    "print(max_length)"
   ]
  },
  {
   "cell_type": "code",
   "execution_count": null,
   "metadata": {},
   "outputs": [],
   "source": [
    "#         #---------------------------------------------------------------------------------------------------\n",
    "#         if(t1.iloc[row][h]=='1' and t1.loc[row][0] =='1'):\n",
    "#             if(t1.loc[row][1] =='1' and t1.loc[row][2] =='1'):\n",
    "#                 dict_for_clause.update('c{}'.format(h),[t1.loc[0][0] , t1.loc[0][1] ,t1.loc[0][2]])\n",
    "                \n",
    "#             elif(t1.loc[row][1] =='0' and t1.loc[row][2] =='1'):\n",
    "#                 dict_for_clause.update('c{}'.format(h),[t1.loc[0][0]  ,t1.loc[0][2]])\n",
    "                \n",
    "#             elif(t1.loc[row][1] =='1' and t1.loc[row][2] =='0'):\n",
    "#                 dict_for_clause.update('c{}'.format(h),[t1.loc[0][0]  ,t1.loc[0][1]])\n",
    "            \n",
    "#             else:\n",
    "#                 dict_for_clause.update('c{}'.format(h),[t1.loc[0][0]])\n",
    "#                 #--------------------------------------------------------------------------------------------\n",
    "            \n",
    "#         elif(t1.iloc[row][h]=='1' and t1.loc[row][1] =='1'):\n",
    "            \n",
    "#             if(t1.loc[row][0] =='1' and t1.loc[row][2] =='1'):\n",
    "#                 dict_for_clause.update('c{}'.format(h),[t1.loc[0][0] , t1.loc[0][1] ,t1.loc[0][2]])\n",
    "                \n",
    "#             elif(t1.loc[row][0] =='0' and t1.loc[row][2] =='1'):\n",
    "#                 dict_for_clause.update('c{}'.format(h),[t1.loc[0][1]  ,t1.loc[0][2]])\n",
    "                \n",
    "#             elif(t1.loc[row][0] =='1' and t1.loc[row][2] =='0'):\n",
    "#                 dict_for_clause.update('c{}'.format(h),[t1.loc[0][0]  ,t1.loc[0][1]])\n",
    "            \n",
    "#             else:\n",
    "#                 dict_for_clause.update('c{}'.format(h),[t1.loc[0][1]])\n",
    "#             #-------------------------------------------------------------------------------------------\n",
    "            \n",
    "#         elif(t1.iloc[row][h]=='1' and t1.loc[row][2] =='1'):\n",
    "            \n",
    "#             if(t1.loc[row][0] =='1' and t1.loc[row][1] =='1'):\n",
    "#                 dict_for_clause.update('c{}'.format(h),[t1.loc[0][0] , t1.loc[0][1] ,t1.loc[0][2]])\n",
    "                \n",
    "#             elif(t1.loc[row][0] =='0' and t1.loc[row][1] =='1'):\n",
    "#                 dict_for_clause.update('c{}'.format(h),[t1.loc[0][1]  ,t1.loc[0][2]])\n",
    "                \n",
    "#             elif(t1.loc[row][0] =='1' and t1.loc[row][1] =='0'):\n",
    "#                 dict_for_clause.update('c{}'.format(h),[t1.loc[0][0]  ,t1.loc[0][2]])\n",
    "            \n",
    "#             else:\n",
    "#                 dict_for_clause.update('c{}'.format(h),[t1.loc[0][2]])\n",
    "#             #------------------------------------------------------------------------------------------\n",
    "#         else:\n",
    "#             continue\n",
    "            "
   ]
  },
  {
   "cell_type": "code",
   "execution_count": null,
   "metadata": {},
   "outputs": [],
   "source": []
  }
 ],
 "metadata": {
  "kernelspec": {
   "display_name": "Python 3",
   "language": "python",
   "name": "python3"
  },
  "language_info": {
   "codemirror_mode": {
    "name": "ipython",
    "version": 3
   },
   "file_extension": ".py",
   "mimetype": "text/x-python",
   "name": "python",
   "nbconvert_exporter": "python",
   "pygments_lexer": "ipython3",
   "version": "3.7.1"
  }
 },
 "nbformat": 4,
 "nbformat_minor": 2
}
