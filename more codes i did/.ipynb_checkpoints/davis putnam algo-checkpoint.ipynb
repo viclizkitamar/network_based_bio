{
 "cells": [
  {
   "cell_type": "code",
   "execution_count": 1,
   "metadata": {},
   "outputs": [],
   "source": [
    "import pandas as pd\n",
    "import numpy as np\n",
    "import matplotlib\n",
    "import itertools"
   ]
  },
  {
   "cell_type": "code",
   "execution_count": 2,
   "metadata": {},
   "outputs": [],
   "source": [
    "def remove_once(cnf_literal,df):\n",
    "    df_=pd.DataFrame(df)\n",
    "    if  [] in cnf_literal:\n",
    "        print(\"noting\")\n",
    "    else:\n",
    "        for item in cnf_literal:\n",
    "            if(len(item)==1): #meaning it's one literal clause-> list of one\n",
    "                \n",
    "                for idx, item_next in enumerate(cnf_literal):\n",
    "                    if(len(item_next)!=1): #so it won't earse itself \n",
    "                        for i in item_next:\n",
    "    #                         print(isinstance(item[0], str))\n",
    "                            negation=(\"~\"+(item[0]))\n",
    "                            \n",
    "                            \n",
    "                            df_[item[0]]=\"True\"\n",
    "                            df_[negation]=\"False\"\n",
    "\n",
    "                            if(str(i)==negation ):  #for each opposite \n",
    "                                item_next.remove(i)\n",
    "                                cnf_literal[idx]=item_next\n",
    "                                print(\"tamar1\",cnf_literal)\n",
    "                                remove_once(cnf_literal,df_)\n",
    "\n",
    "                            elif (str(i)==(item[0])):\n",
    "                                cnf_literal.remove(item_next)\n",
    "                                print(\"tamar2\", cnf_literal)\n",
    "                                remove_once(cnf_literal,df_)\n",
    "\n",
    "\n",
    "                            elif(\"~\"+str(i)==str(item[0]) ):  #depends on the one literal \n",
    "                                cnf_literal.remove(cnf_literal[item_next][i])\n",
    "                                print(\"tamar3\",cnf_literal)\n",
    "                                remove_once(cnf_literal,df_)\n",
    "\n",
    "\n",
    "\n",
    "\n",
    "\n",
    "            if item in cnf_literal:\n",
    "                cnf_literal.remove(item)\n",
    "    return(cnf_literal,df_)"
   ]
  },
  {
   "cell_type": "code",
   "execution_count": 3,
   "metadata": {},
   "outputs": [],
   "source": [
    "def check_if_negation(cnf_literal, literals,df):\n",
    "    for literal in literals:\n",
    "        negation=(\"~\"+(literal))\n",
    "        if '~' in literal:\n",
    "            negation=literal.replace('~','')\n",
    "            \n",
    "        for clause in cnf_literal:\n",
    "            for clause2 in cnf_literal:\n",
    "                if ((literal in clause )and (negation in clause)):\n",
    "                    print(\"there is litiral with is negation in same clause..1\")\n",
    "                    cnf_literal.remove(clause)\n",
    "\n",
    "                elif((clause2 != clause) and (((literal in clause)and (negation in clause2)) or ((literal in clause2)and (negation in clause)))):\n",
    "                        print(\"ambigousy\")\n",
    "    return(cnf_literal,df)"
   ]
  },
  {
   "cell_type": "code",
   "execution_count": 4,
   "metadata": {},
   "outputs": [
    {
     "name": "stdout",
     "output_type": "stream",
     "text": [
      "True\n"
     ]
    }
   ],
   "source": [
    "tamar='~y'\n",
    "tamar.replace('~','')\n",
    "if '~' in tamar:\n",
    "    print(True)"
   ]
  },
  {
   "cell_type": "code",
   "execution_count": 5,
   "metadata": {},
   "outputs": [],
   "source": [
    "def all_the_same(cnf_literal, literals,df):\n",
    "    print(cnf_literal)\n",
    "    flag=0\n",
    "    all_same=[]\n",
    "    for i in literals:\n",
    "         \n",
    "        if '~' in i:\n",
    "            negation=i.replace('~','')\n",
    "        else:\n",
    "            negation=(\"~\"+(i))\n",
    "#         print(i)\n",
    "        res = any(negation not in item for item in cnf_literal)\n",
    "#         print(i, negation,res)\n",
    "        if(res==False):\n",
    "            continue\n",
    "        else:\n",
    "            all_same.append(i)\n",
    "#     print(all_same)\n",
    "        \n",
    "    for element in all_same:\n",
    "        for item in cnf_literal:\n",
    "            if element in item:\n",
    "                cnf_literal.remove(item)\n",
    "                df[item[0]]=\"True\"\n",
    "                if '~' in item[0]:\n",
    "                    negation=item[0].replace('~','')\n",
    "                else:\n",
    "                    negation=(\"~\"+(item[0]))\n",
    "                df[negation]=\"False\"\n",
    "                \n",
    "    \n",
    "    return cnf_literal,df\n",
    "        \n",
    "                    \n",
    "                "
   ]
  },
  {
   "cell_type": "code",
   "execution_count": 6,
   "metadata": {},
   "outputs": [],
   "source": [
    "def group_by_element(cnf_literal,literals):\n",
    "    traceback=[]\n",
    "    groups = []\n",
    "    for k, g in itertools.groupby(cnf_literal, literals):\n",
    "        groups.append(list(g))    # Store group iterator as a list\n",
    "    \n",
    "#     return groups,traceback"
   ]
  },
  {
   "cell_type": "code",
   "execution_count": 7,
   "metadata": {},
   "outputs": [],
   "source": [
    "def dp_algo(cnf ):\n",
    "    # get litterals? separate to clauses?\n",
    "    \n",
    "    #1] if element in cnf list is by itself-> translate it to TRUE and each clause with him remove\n",
    "    \n",
    "    #2] #if p is infermittly True or False, delete it.\n",
    "\n",
    "    #3] groupby P and ~P --> use it to traceback\n",
    "    \n",
    "    #create members\n",
    "    traceback=[]\n",
    "    cnf_l = list(cnf)\n",
    "    \n",
    "    #create list of list so i can check each literal \n",
    "    cnf_literal=[] \n",
    "    \n",
    "    for item in cnf_l:\n",
    "        if item not in cnf_literal:\n",
    "            cnf_literal.append(list(item))\n",
    "            \n",
    "    literals = []\n",
    "    \n",
    "    for item in  cnf_literal:\n",
    "        for i in item:\n",
    "            if i not in literals:\n",
    "                literals.append(i)\n",
    "    \n",
    "\n",
    "#     group_by_element(cnf_literal,literals) \n",
    "#     print(cnf_literal)\n",
    "    df=pd.DataFrame(index=[0],columns=literals)\n",
    "#     for literal in literals:\n",
    "#         df[literal]=\"don't know\"\n",
    "    \n",
    "    cnf_literal,df=remove_once(cnf_literal,df)   # calling from the upper function       \n",
    "    print(cnf_literal)\n",
    "    \n",
    "    print( df)\n",
    "    \n",
    "    cnf_literal,df=all_the_same(cnf_literal,literals,df)\n",
    "   \n",
    "    print(cnf_literal)\n",
    "    \n",
    "    cnf_literal,df= check_if_negation(cnf_literal,literals,df)\n",
    "   \n",
    "    print(cnf_literal)\n",
    "    \n",
    "    empty =\"empty\"\n",
    "    \n",
    "    if cnf_literal: #not empty\n",
    "        empty=\"not empty\" \n",
    "    \n",
    "    \n",
    "    df.fillna(\"doesn't matter\")\n",
    "    print( df)\n",
    "    \n",
    "    return empty\n",
    "    \n",
    "    \n",
    "#     if [] in cnf_literal"
   ]
  },
  {
   "cell_type": "code",
   "execution_count": null,
   "metadata": {},
   "outputs": [],
   "source": []
  },
  {
   "cell_type": "code",
   "execution_count": 8,
   "metadata": {},
   "outputs": [
    {
     "name": "stdout",
     "output_type": "stream",
     "text": [
      "tamar2 [['p'], ['a', '~p', 'b']]\n",
      "tamar1 [['p'], ['a', 'b']]\n",
      "[['a', 'b']]\n",
      "      p    a    b     ~p\n",
      "0  True  NaN  NaN  False\n",
      "[['a', 'b']]\n",
      "[]\n",
      "[]\n",
      "      p     a    b     ~p     ~a\n",
      "0  True  True  NaN  False  False\n"
     ]
    }
   ],
   "source": [
    "test_cnf=[['p'],['a','p','b'],['a','~p','b']]\n",
    "test_cnf_2=[['a','p','b'],['a','~p','b']]\n",
    "dp_algo(test_cnf)"
   ]
  },
  {
   "cell_type": "code",
   "execution_count": 9,
   "metadata": {},
   "outputs": [],
   "source": [
    "test_cnf_3=[['p'],['~p' ,'a' ] ,['z' , 'k' ]]\n",
    "test_cnf_4=[['p' ,'a'] ,['p' ,'b'] ,['~a','~b' ],['a','b' ]]\n",
    "\n",
    "#to_add the negation\n",
    "test_cnf_5=[['p' ,'a']  ,['y','t'],['~y','~t']]"
   ]
  },
  {
   "cell_type": "code",
   "execution_count": 10,
   "metadata": {},
   "outputs": [
    {
     "name": "stdout",
     "output_type": "stream",
     "text": [
      "[['y', 't']]\n",
      "     p    a    y    t   ~y   ~t\n",
      "0  NaN  NaN  NaN  NaN  NaN  NaN\n",
      "[['y', 't']]\n",
      "[]\n",
      "[]\n",
      "     p    a     y    t     ~y   ~t\n",
      "0  NaN  NaN  True  NaN  False  NaN\n"
     ]
    }
   ],
   "source": [
    "dp_algo(test_cnf_5)"
   ]
  },
  {
   "cell_type": "code",
   "execution_count": 11,
   "metadata": {},
   "outputs": [],
   "source": [
    "# in case the sat is not empty we will put some values and will resend those cluses.. the one that left..\n",
    "def guess_for_reduce(df,cnf_literal,literals):\n",
    "    i=0\n",
    "    if df[0][literals[i]]==\"Nan\":\n",
    "        if \"~\" not in literals[i]:\n",
    "            negation=(\"~\"+(literals[i]))\n",
    "        negation=((literals[i]))\n",
    "        df_for_memory=df\n",
    "        df[0][literals[i]]=\"True\" \n",
    "        df[0][negation]=\"False\"\n",
    "        for clause in cnf_literal:\n",
    "            if literals[i] in clause:\n",
    "                cnf_literal.remove(clause)\n",
    "                if negation in clause:\n",
    "                    clause.remove(negation)\n",
    "        if dp_algo(cnf_literal)!=\"empty\":\n",
    "            df_for_memory[0][literals[i]]=\"False\"\n",
    "            df_for_memory[0][negation]=\"True\"\n",
    "            or clause in cnf_literal:\n",
    "            if literals[i] in clause:\n",
    "                cnf_literal.remove(clause)\n",
    "                if negation in clause:\n",
    "                    clause.remove(negation)\n",
    "        dp_algo(cnf_literal)\n",
    "                \n",
    "    i=i+1 "
   ]
  },
  {
   "cell_type": "code",
   "execution_count": null,
   "metadata": {},
   "outputs": [],
   "source": []
  },
  {
   "cell_type": "code",
   "execution_count": null,
   "metadata": {},
   "outputs": [],
   "source": []
  }
 ],
 "metadata": {
  "kernelspec": {
   "display_name": "Python 3",
   "language": "python",
   "name": "python3"
  },
  "language_info": {
   "codemirror_mode": {
    "name": "ipython",
    "version": 3
   },
   "file_extension": ".py",
   "mimetype": "text/x-python",
   "name": "python",
   "nbconvert_exporter": "python",
   "pygments_lexer": "ipython3",
   "version": "3.7.1"
  }
 },
 "nbformat": 4,
 "nbformat_minor": 2
}
